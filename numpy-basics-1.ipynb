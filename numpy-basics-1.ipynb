{
 "cells": [
  {
   "cell_type": "code",
   "execution_count": 1,
   "id": "8b822a60",
   "metadata": {
    "_cell_guid": "b1076dfc-b9ad-4769-8c92-a6c4dae69d19",
    "_uuid": "8f2839f25d086af736a60e9eeb907d3b93b6e0e5",
    "execution": {
     "iopub.execute_input": "2025-05-14T17:28:44.468689Z",
     "iopub.status.busy": "2025-05-14T17:28:44.468309Z",
     "iopub.status.idle": "2025-05-14T17:28:46.480152Z",
     "shell.execute_reply": "2025-05-14T17:28:46.479002Z"
    },
    "papermill": {
     "duration": 2.017556,
     "end_time": "2025-05-14T17:28:46.481970",
     "exception": false,
     "start_time": "2025-05-14T17:28:44.464414",
     "status": "completed"
    },
    "tags": []
   },
   "outputs": [],
   "source": [
    "# This Python 3 environment comes with many helpful analytics libraries installed\n",
    "# It is defined by the kaggle/python Docker image: https://github.com/kaggle/docker-python\n",
    "# For example, here's several helpful packages to load\n",
    "\n",
    "import numpy as np # linear algebra\n",
    "import pandas as pd # data processing, CSV file I/O (e.g. pd.read_csv)\n",
    "\n",
    "# Input data files are available in the read-only \"../input/\" directory\n",
    "# For example, running this (by clicking run or pressing Shift+Enter) will list all files under the input directory\n",
    "\n",
    "import os\n",
    "for dirname, _, filenames in os.walk('/kaggle/input'):\n",
    "    for filename in filenames:\n",
    "        print(os.path.join(dirname, filename))\n",
    "\n",
    "# You can write up to 20GB to the current directory (/kaggle/working/) that gets preserved as output when you create a version using \"Save & Run All\" \n",
    "# You can also write temporary files to /kaggle/temp/, but they won't be saved outside of the current session"
   ]
  },
  {
   "cell_type": "markdown",
   "id": "43c63a12",
   "metadata": {
    "papermill": {
     "duration": 0.001997,
     "end_time": "2025-05-14T17:28:46.486786",
     "exception": false,
     "start_time": "2025-05-14T17:28:46.484789",
     "status": "completed"
    },
    "tags": []
   },
   "source": [
    "### Packages: Collection of Modules\n",
    "\n",
    "Library: Packages which are not readily available within python"
   ]
  },
  {
   "cell_type": "code",
   "execution_count": 2,
   "id": "df695c5a",
   "metadata": {
    "execution": {
     "iopub.execute_input": "2025-05-14T17:28:46.492402Z",
     "iopub.status.busy": "2025-05-14T17:28:46.491999Z",
     "iopub.status.idle": "2025-05-14T17:28:46.499276Z",
     "shell.execute_reply": "2025-05-14T17:28:46.498317Z"
    },
    "papermill": {
     "duration": 0.011902,
     "end_time": "2025-05-14T17:28:46.500873",
     "exception": false,
     "start_time": "2025-05-14T17:28:46.488971",
     "status": "completed"
    },
    "tags": []
   },
   "outputs": [
    {
     "data": {
      "text/plain": [
       "list"
      ]
     },
     "execution_count": 2,
     "metadata": {},
     "output_type": "execute_result"
    }
   ],
   "source": [
    "a = [1,2,3,4,5]\n",
    "\n",
    "type(a)"
   ]
  },
  {
   "cell_type": "code",
   "execution_count": 3,
   "id": "a2fd2f84",
   "metadata": {
    "execution": {
     "iopub.execute_input": "2025-05-14T17:28:46.506580Z",
     "iopub.status.busy": "2025-05-14T17:28:46.506279Z",
     "iopub.status.idle": "2025-05-14T17:28:46.512523Z",
     "shell.execute_reply": "2025-05-14T17:28:46.511547Z"
    },
    "papermill": {
     "duration": 0.011247,
     "end_time": "2025-05-14T17:28:46.514515",
     "exception": false,
     "start_time": "2025-05-14T17:28:46.503268",
     "status": "completed"
    },
    "tags": []
   },
   "outputs": [
    {
     "data": {
      "text/plain": [
       "[1, 4, 9, 16, 25]"
      ]
     },
     "execution_count": 3,
     "metadata": {},
     "output_type": "execute_result"
    }
   ],
   "source": [
    "res = [i**2 for i in a]\n",
    "res"
   ]
  },
  {
   "cell_type": "markdown",
   "id": "c284dcfe",
   "metadata": {
    "papermill": {
     "duration": 0.003256,
     "end_time": "2025-05-14T17:28:46.521992",
     "exception": false,
     "start_time": "2025-05-14T17:28:46.518736",
     "status": "completed"
    },
    "tags": []
   },
   "source": [
    "List Comprehension-- [expression for item in iterable if condition (conditional)]"
   ]
  },
  {
   "cell_type": "code",
   "execution_count": 4,
   "id": "9757c328",
   "metadata": {
    "execution": {
     "iopub.execute_input": "2025-05-14T17:28:46.531392Z",
     "iopub.status.busy": "2025-05-14T17:28:46.531026Z",
     "iopub.status.idle": "2025-05-14T17:28:46.538187Z",
     "shell.execute_reply": "2025-05-14T17:28:46.537153Z"
    },
    "papermill": {
     "duration": 0.012423,
     "end_time": "2025-05-14T17:28:46.539497",
     "exception": false,
     "start_time": "2025-05-14T17:28:46.527074",
     "status": "completed"
    },
    "tags": []
   },
   "outputs": [
    {
     "data": {
      "text/plain": [
       "numpy.ndarray"
      ]
     },
     "execution_count": 4,
     "metadata": {},
     "output_type": "execute_result"
    }
   ],
   "source": [
    "b = np.array(a)\n",
    "type(b)"
   ]
  },
  {
   "cell_type": "code",
   "execution_count": null,
   "id": "11e040d3",
   "metadata": {
    "papermill": {
     "duration": 0.002182,
     "end_time": "2025-05-14T17:28:46.544175",
     "exception": false,
     "start_time": "2025-05-14T17:28:46.541993",
     "status": "completed"
    },
    "tags": []
   },
   "outputs": [],
   "source": []
  },
  {
   "cell_type": "code",
   "execution_count": null,
   "id": "25dcaaee",
   "metadata": {
    "papermill": {
     "duration": 0.003494,
     "end_time": "2025-05-14T17:28:46.552677",
     "exception": false,
     "start_time": "2025-05-14T17:28:46.549183",
     "status": "completed"
    },
    "tags": []
   },
   "outputs": [],
   "source": []
  },
  {
   "cell_type": "code",
   "execution_count": null,
   "id": "19d186fb",
   "metadata": {
    "papermill": {
     "duration": 0.003192,
     "end_time": "2025-05-14T17:28:46.559476",
     "exception": false,
     "start_time": "2025-05-14T17:28:46.556284",
     "status": "completed"
    },
    "tags": []
   },
   "outputs": [],
   "source": []
  }
 ],
 "metadata": {
  "kaggle": {
   "accelerator": "none",
   "dataSources": [],
   "dockerImageVersionId": 31040,
   "isGpuEnabled": false,
   "isInternetEnabled": true,
   "language": "python",
   "sourceType": "notebook"
  },
  "kernelspec": {
   "display_name": "Python 3",
   "language": "python",
   "name": "python3"
  },
  "language_info": {
   "codemirror_mode": {
    "name": "ipython",
    "version": 3
   },
   "file_extension": ".py",
   "mimetype": "text/x-python",
   "name": "python",
   "nbconvert_exporter": "python",
   "pygments_lexer": "ipython3",
   "version": "3.11.11"
  },
  "papermill": {
   "default_parameters": {},
   "duration": 7.901191,
   "end_time": "2025-05-14T17:28:47.186148",
   "environment_variables": {},
   "exception": null,
   "input_path": "__notebook__.ipynb",
   "output_path": "__notebook__.ipynb",
   "parameters": {},
   "start_time": "2025-05-14T17:28:39.284957",
   "version": "2.6.0"
  }
 },
 "nbformat": 4,
 "nbformat_minor": 5
}
